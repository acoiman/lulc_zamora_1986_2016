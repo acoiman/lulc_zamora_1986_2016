{
  "nbformat": 4,
  "nbformat_minor": 0,
  "metadata": {
    "colab": {
      "name": "reference_data.ipynb",
      "provenance": [],
      "collapsed_sections": [],
      "include_colab_link": true
    },
    "kernelspec": {
      "display_name": "Python 3",
      "language": "python",
      "name": "python3"
    },
    "language_info": {
      "codemirror_mode": {
        "name": "ipython",
        "version": 3
      },
      "file_extension": ".py",
      "mimetype": "text/x-python",
      "name": "python",
      "nbconvert_exporter": "python",
      "pygments_lexer": "ipython3",
      "version": "3.7.3"
    }
  },
  "cells": [
    {
      "cell_type": "markdown",
      "metadata": {
        "id": "view-in-github",
        "colab_type": "text"
      },
      "source": [
        "<a href=\"https://colab.research.google.com/github/acoiman/lulc_zamora_1986_2016/blob/master/reference_data.ipynb\" target=\"_parent\"><img src=\"https://colab.research.google.com/assets/colab-badge.svg\" alt=\"Open In Colab\"/></a>"
      ]
    },
    {
      "cell_type": "markdown",
      "metadata": {
        "id": "ViEiJxSJWUwK",
        "colab_type": "text"
      },
      "source": [
        "# Collect ground-truth data using GEE Python API\n",
        "\n",
        "This notebook will show you how to collect ground-truth data using [Google Earth Engine](https://earthengine.google.com/) (GEE)  and how to clean that data using [geopandas](https://geopandas.org/) and [numpy](https://numpy.org/) libraries.\n",
        "\n",
        "This notebook has two parts: in part 1 we will collect ground-truth data using GEE python library and the Copernicus Global Land Cover Layers: [CGLS-LC10](https://developers.google.com/earth-engine/datasets/catalog/COPERNICUS_Landcover_100m_Proba-V_Global) collection 2. Next, in part 2, we will clean our ground-truth samples by selecting only the columns we are interested in and get the column names (land cover class) with the max value.  \n",
        "\n",
        "To run this notebook you should use [Google Colaboratory](https://colab.research.google.com/notebooks/intro.ipynb) and authenticate GEE with your own credentials. Also,  you must upload the `srsample shapefile` located in the [shp folder](../shp) as a feature collection using the [code editor](https://code.earthengine.google.com/) of GEE  "
      ]
    },
    {
      "cell_type": "markdown",
      "metadata": {
        "id": "k1wFLmQzWGhs",
        "colab_type": "text"
      },
      "source": [
        "## First Part: collecting ground-truth samples"
      ]
    },
    {
      "cell_type": "code",
      "metadata": {
        "colab_type": "code",
        "id": "N5406nA6SzoQ",
        "colab": {}
      },
      "source": [
        "# authenticate GEE\n",
        "!earthengine authenticate"
      ],
      "execution_count": 0,
      "outputs": []
    },
    {
      "cell_type": "code",
      "metadata": {
        "colab_type": "code",
        "id": "pz6VE1RVUyop",
        "colab": {}
      },
      "source": [
        "# import pretty print package\n",
        "import pprint\n",
        "# import earth engine (ee) python package\n",
        "import ee \n",
        "# initialize the Earth Engine object, using the authentication credentials.\n",
        "ee.Initialize() "
      ],
      "execution_count": 0,
      "outputs": []
    },
    {
      "cell_type": "code",
      "metadata": {
        "colab_type": "code",
        "id": "aakg9YKXTYqw",
        "colab": {}
      },
      "source": [
        "#  CGLS-LC10 image collection\n",
        "imgcollection = ee.ImageCollection('COPERNICUS/Landcover/100m/Proba-V/Global')"
      ],
      "execution_count": 0,
      "outputs": []
    },
    {
      "cell_type": "code",
      "metadata": {
        "colab_type": "code",
        "id": "gu4sygAmUOIA",
        "colab": {}
      },
      "source": [
        "# list of bands to be used \n",
        "bands = ['forest_type',\n",
        "         'bare-coverfraction',\n",
        "         'crops-coverfraction',\n",
        "         'grass-coverfraction',\n",
        "         'moss-coverfraction',\n",
        "         'shrub-coverfraction',\n",
        "         'tree-coverfraction',\n",
        "         'snow-coverfraction',\n",
        "         'urban-coverfraction',\n",
        "         'water-permanent-coverfraction',\n",
        "         'water-seasonal-coverfraction'\n",
        "         ];"
      ],
      "execution_count": 0,
      "outputs": []
    },
    {
      "cell_type": "code",
      "metadata": {
        "colab_type": "code",
        "id": "wLDfAK4pVLni",
        "colab": {}
      },
      "source": [
        "# select bands\n",
        "imgcollection2 = imgcollection.select(bands)"
      ],
      "execution_count": 0,
      "outputs": []
    },
    {
      "cell_type": "code",
      "metadata": {
        "colab_type": "code",
        "id": "FKy5_ScCVRPK",
        "colab": {}
      },
      "source": [
        "# load feature collection from assets\n",
        "newft = ee.FeatureCollection ('users/abrahamcoiman/zamora_2016/srsample') # use your own path"
      ],
      "execution_count": 0,
      "outputs": []
    },
    {
      "cell_type": "code",
      "metadata": {
        "colab_type": "code",
        "id": "kaYFxU9aV3qI",
        "colab": {}
      },
      "source": [
        "# perform the reduction\n",
        "gt = imgcollection2.mean().reduceRegions(\n",
        "    reducer= ee.Reducer.max(),\n",
        "    collection= newft,\n",
        "    scale=100 ) #scale of image pixel size "
      ],
      "execution_count": 0,
      "outputs": []
    },
    {
      "cell_type": "code",
      "metadata": {
        "colab_type": "code",
        "id": "YzzGicnVbC9i",
        "colab": {}
      },
      "source": [
        "# export the featureCollection to a GeoJSON file.\n",
        "task = ee.batch.Export.table.toDrive(**{\n",
        "  'collection': gt,\n",
        "  'description':'reference',\n",
        "  'fileFormat': 'GeoJSON'\n",
        "})\n",
        "task.start()"
      ],
      "execution_count": 0,
      "outputs": []
    },
    {
      "cell_type": "markdown",
      "metadata": {
        "id": "TPQ7OgNJWGio",
        "colab_type": "text"
      },
      "source": [
        "## Part 2: cleaning the ground-truth dataset"
      ]
    },
    {
      "cell_type": "code",
      "metadata": {
        "id": "ay-tofCJYFJu",
        "colab_type": "code",
        "colab": {}
      },
      "source": [
        "# install geopandas\n",
        "pip install geopandas"
      ],
      "execution_count": 0,
      "outputs": []
    },
    {
      "cell_type": "code",
      "metadata": {
        "colab_type": "code",
        "id": "9DKhq8JzwzSw",
        "colab": {}
      },
      "source": [
        "\n",
        "# import modules\n",
        "import geopandas as gpd\n",
        "import numpy as np"
      ],
      "execution_count": 0,
      "outputs": []
    },
    {
      "cell_type": "code",
      "metadata": {
        "id": "Xoekpgc_YTAc",
        "colab_type": "code",
        "colab": {}
      },
      "source": [
        "# activate your Drive\n",
        "from google.colab import drive\n",
        "drive.mount('/content/drive')"
      ],
      "execution_count": 0,
      "outputs": []
    },
    {
      "cell_type": "code",
      "metadata": {
        "colab_type": "code",
        "id": "QKx7C87Gw-Mb",
        "colab": {}
      },
      "source": [
        "# reference the geojson file path\n",
        "fname = \"/content/drive/My Drive/reference.geojson\""
      ],
      "execution_count": 0,
      "outputs": []
    },
    {
      "cell_type": "code",
      "metadata": {
        "colab_type": "code",
        "id": "-UE9bkDFxaah",
        "colab": {}
      },
      "source": [
        "# load geojson file\n",
        "df =  gpd.read_file(fname)"
      ],
      "execution_count": 0,
      "outputs": []
    },
    {
      "cell_type": "code",
      "metadata": {
        "colab_type": "code",
        "id": "pR-ZnR1uxjsT",
        "colab": {}
      },
      "source": [
        "# create a new column based on column name (land cover class) containing the  max value of each row\n",
        "df['referenceX'] = df[['bare-coverfraction', 'crops-coverfraction',\n",
        "       'forest_type', 'grass-coverfraction', 'moss-coverfraction',\n",
        "       'shrub-coverfraction', 'snow-coverfraction', 'tree-coverfraction',\n",
        "       'urban-coverfraction', 'water-permanent-coverfraction',\n",
        "       'water-seasonal-coverfraction']].idxmax(axis=1)"
      ],
      "execution_count": 0,
      "outputs": []
    },
    {
      "cell_type": "code",
      "metadata": {
        "colab_type": "code",
        "id": "JrdAvg6sxn4Q",
        "colab": {}
      },
      "source": [
        "# eliminate unuseful columns\n",
        "columntokeep = ['CLASS_NAME','referenceX', 'geometry']\n",
        "df =df[columntokeep]"
      ],
      "execution_count": 0,
      "outputs": []
    },
    {
      "cell_type": "code",
      "metadata": {
        "colab_type": "code",
        "id": "qd796tsAy6yE",
        "colab": {}
      },
      "source": [
        "# rename column\n",
        "df = df.rename(columns = {'CLASS_NAME':'LandCover'})"
      ],
      "execution_count": 0,
      "outputs": []
    },
    {
      "cell_type": "code",
      "metadata": {
        "colab_type": "code",
        "id": "nI733tIwy7lY",
        "colab": {}
      },
      "source": [
        "# function to label reference data\n",
        "def label_ref (df):\n",
        "    if df['referenceX'] == 'urban-coverfraction':\n",
        "        return 1\n",
        "    if df['referenceX'] == 'water-permanent-coverfraction':\n",
        "        return 2\n",
        "    if df['referenceX'] == 'tree-coverfraction':\n",
        "        return 3\n",
        "    if df['referenceX'] == 'shrub-coverfraction':\n",
        "        return 4\n",
        "    if df['referenceX'] == 'shrub-coverfraction':\n",
        "        return 4\n",
        "    if df['referenceX'] == 'grass-coverfraction':\n",
        "        return 4\n",
        "    if df['referenceX'] == 'crops-coverfraction':\n",
        "        return 5   "
      ],
      "execution_count": 0,
      "outputs": []
    },
    {
      "cell_type": "code",
      "metadata": {
        "colab_type": "code",
        "id": "qS8DpdDsy-W7",
        "colab": {}
      },
      "source": [
        "# apply function to label refrerence data\n",
        "df['Reference'] = df.apply (lambda df: label_ref(df), axis=1)"
      ],
      "execution_count": 0,
      "outputs": []
    },
    {
      "cell_type": "code",
      "metadata": {
        "colab_type": "code",
        "id": "h6B8FVKGzCHX",
        "colab": {}
      },
      "source": [
        "# function to label classified data\n",
        "def label_class (df):\n",
        "    if df['LandCover'] == 'urban fabric':\n",
        "        return 1\n",
        "    if df['LandCover'] == 'inland waters':\n",
        "        return 2\n",
        "    if df['LandCover'] == 'forest':\n",
        "        return 3\n",
        "    if df['LandCover'] == 'scrub and/or herbaceous vegetation associations':\n",
        "        return 4\n",
        "    if df['LandCover'] == 'heterogeneous agricultural areas':\n",
        "        return 5\n",
        "    if df['LandCover'] == 'open spaces with little or no vegetation':\n",
        "        return 6\n",
        "    if df['LandCover'] == 'industrial and commercial units':\n",
        "        return 7 \n",
        "    if df['LandCover'] == 'mine and dump sites':\n",
        "        return 8 "
      ],
      "execution_count": 0,
      "outputs": []
    },
    {
      "cell_type": "code",
      "metadata": {
        "colab_type": "code",
        "id": "IR20vS0bzEu-",
        "colab": {}
      },
      "source": [
        "# apply function to label classified data\n",
        "df['Classified'] = df.apply (lambda df: label_class(df), axis=1)"
      ],
      "execution_count": 0,
      "outputs": []
    },
    {
      "cell_type": "code",
      "metadata": {
        "colab_type": "code",
        "id": "20sPjuTGzPqz",
        "colab": {}
      },
      "source": [
        "# eliminate unuseful columns\n",
        "df = df[['LandCover','Classified', 'Reference', 'geometry']]"
      ],
      "execution_count": 0,
      "outputs": []
    },
    {
      "cell_type": "code",
      "metadata": {
        "colab_type": "code",
        "id": "NtsBw1tazSuM",
        "colab": {}
      },
      "source": [
        "# save geodataframe to shp\n",
        "df.to_file(\"/content/drive/My Drive/values.shp\")"
      ],
      "execution_count": 0,
      "outputs": []
    }
  ]
}
