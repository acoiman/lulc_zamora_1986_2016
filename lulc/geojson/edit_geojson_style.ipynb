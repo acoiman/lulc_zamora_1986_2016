{
 "cells": [
  {
   "cell_type": "markdown",
   "metadata": {},
   "source": [
    "## Edit GeoJSON Style"
   ]
  },
  {
   "cell_type": "code",
   "execution_count": 36,
   "metadata": {},
   "outputs": [],
   "source": [
    "import json"
   ]
  },
  {
   "cell_type": "code",
   "execution_count": 37,
   "metadata": {},
   "outputs": [],
   "source": [
    "with open('lulc_2016.geojson', 'r+') as f:\n",
    "    data = json.load(f)"
   ]
  },
  {
   "cell_type": "code",
   "execution_count": 38,
   "metadata": {},
   "outputs": [],
   "source": [
    "for i in data['features']:\n",
    "    if (i['properties']['CLASS_NAME']=='Forests'):\n",
    "        i['properties']['fill']='#4dff00ff'\n",
    "        i['properties']['stroke-width']= 0\n",
    "        i['properties']['fill-opacity']= 0.7\n",
    "    if (i['properties']['CLASS_NAME']=='Heterogeneous agricultural areas'):\n",
    "        i['properties']['fill']='#ffe6a6ff'\n",
    "        i['properties']['stroke-width']= 0\n",
    "        i['properties']['fill-opacity']= 0.7\n",
    "    if (i['properties']['CLASS_NAME']=='Industrial and commercial units'):\n",
    "        i['properties']['fill']='#cc4df2ff'\n",
    "        i['properties']['stroke-width']= 0\n",
    "        i['properties']['fill-opacity']= 0.7\n",
    "    if (i['properties']['CLASS_NAME']=='Inland waters'):\n",
    "        i['properties']['fill']='#00ccf2ff'\n",
    "        i['properties']['stroke-width']= 0\n",
    "        i['properties']['fill-opacity']= 0.7\n",
    "    if (i['properties']['CLASS_NAME']=='Mine and dump sites'):\n",
    "        i['properties']['fill']='#a600ccff'\n",
    "        i['properties']['stroke-width']= 0\n",
    "        i['properties']['fill-opacity']= 0.7\n",
    "    if (i['properties']['CLASS_NAME']=='Open spaces with little or no vegetation'):\n",
    "        i['properties']['fill']='#ccffccff'\n",
    "        i['properties']['stroke-width']= 0\n",
    "        i['properties']['fill-opacity']= 0.7\n",
    "    if (i['properties']['CLASS_NAME']=='Scrub and/or herbaceous vegetation associations'):\n",
    "        i['properties']['fill']='#a6ff80ff'\n",
    "        i['properties']['stroke-width']= 0\n",
    "        i['properties']['fill-opacity']= 0.7\n",
    "    if (i['properties']['CLASS_NAME']=='Urban fabric'):\n",
    "        i['properties']['fill']='#ff0000ff'\n",
    "        i['properties']['stroke-width']= 0\n",
    "        i['properties']['fill-opacity']= 0.7"
   ]
  },
  {
   "cell_type": "code",
   "execution_count": 39,
   "metadata": {},
   "outputs": [],
   "source": [
    "with open(\"lulc_2016.geojson\", \"w\") as jsonFile:\n",
    "    json.dump(data, jsonFile)"
   ]
  }
 ],
 "metadata": {
  "kernelspec": {
   "display_name": "Python 3",
   "language": "python",
   "name": "python3"
  },
  "language_info": {
   "codemirror_mode": {
    "name": "ipython",
    "version": 3
   },
   "file_extension": ".py",
   "mimetype": "text/x-python",
   "name": "python",
   "nbconvert_exporter": "python",
   "pygments_lexer": "ipython3",
   "version": "3.7.3"
  }
 },
 "nbformat": 4,
 "nbformat_minor": 2
}
