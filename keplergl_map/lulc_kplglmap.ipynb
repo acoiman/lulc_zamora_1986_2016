{
 "cells": [
  {
   "cell_type": "markdown",
   "id": "equipped-spider",
   "metadata": {},
   "source": [
    "#  Creating a Web Map using Kepler.GL for Jupyter Notebook\n",
    "\n",
    "This notebook contains the code used to visualize Land Use and Land Cover (LULC) data using Jupyter Notebook and [Kepler.GL](https://kepler.gl/). Kepler.gl for Jupyter Notebooks is a tool that allows us to visualize Geospatial data with a handy User interface (UI) and a flexible Jupyter notebook interface (Abdishakur, 2019).\n",
    "\n",
    "First, we will import the required Python libraries."
   ]
  },
  {
   "cell_type": "code",
   "execution_count": 2,
   "id": "classical-agreement",
   "metadata": {},
   "outputs": [],
   "source": [
    "import pandas as pd\n",
    "from keplergl import KeplerGl\n",
    "import geopandas as gpd\n",
    "import numpy as np"
   ]
  },
  {
   "cell_type": "markdown",
   "id": "intense-complement",
   "metadata": {},
   "source": [
    "Let's read our dataset using the [Geopandas](https://geopandas.org/) library."
   ]
  },
  {
   "cell_type": "code",
   "execution_count": 3,
   "id": "mobile-mount",
   "metadata": {},
   "outputs": [],
   "source": [
    "lulc_1986 = gpd.read_file(\"../lulc/shp/1986/lulc_1986.shp\")\n",
    "lulc_1998 = gpd.read_file(\"../lulc/shp/1998/lulc_1998.shp\")\n",
    "lulc_2003 = gpd.read_file(\"../lulc/shp/2003/lulc_2003.shp\")\n",
    "lulc_2016 = gpd.read_file(\"../lulc/shp/2016/lulc_2016.shp\")\n",
    "zamora_bounds = gpd.read_file(\"../miscellaneous/administrative_boundaries/zamora_bounds.shp\")"
   ]
  },
  {
   "cell_type": "markdown",
   "id": "sacred-modem",
   "metadata": {},
   "source": [
    "Now, we will re-project each dataset to EPSG:4326 (WGS-84) CRS (Coordinate Reference System)"
   ]
  },
  {
   "cell_type": "code",
   "execution_count": 4,
   "id": "guilty-anniversary",
   "metadata": {},
   "outputs": [],
   "source": [
    "lulc_1986 = lulc_1986.to_crs('EPSG:4326')\n",
    "lulc_1998 = lulc_1998.to_crs('EPSG:4326')\n",
    "lulc_2003 = lulc_2003.to_crs('EPSG:4326')\n",
    "lulc_2016 = lulc_2016.to_crs('EPSG:4326')\n",
    "zamora_bounds = zamora_bounds.to_crs('EPSG:4326')            "
   ]
  },
  {
   "cell_type": "markdown",
   "id": "nonprofit-framework",
   "metadata": {},
   "source": [
    "We will load a predefined map configuration. Previously,  we customized our map using Kepler.GL GUI itself. For more information see:  https://www.analyticsvidhya.com/blog/2020/06/learn-visualize-geospatial-data-jupyter-kepler/."
   ]
  },
  {
   "cell_type": "code",
   "execution_count": 5,
   "id": "prompt-commitment",
   "metadata": {},
   "outputs": [],
   "source": [
    "# load config file\n",
    "config = np.load('config.npy',allow_pickle='TRUE').item()"
   ]
  },
  {
   "cell_type": "markdown",
   "id": "amber-brother",
   "metadata": {},
   "source": [
    "Next, We will create our map object using the configuration variable and passing the width and height of the map."
   ]
  },
  {
   "cell_type": "code",
   "execution_count": 6,
   "id": "prompt-category",
   "metadata": {},
   "outputs": [
    {
     "name": "stdout",
     "output_type": "stream",
     "text": [
      "User Guide: https://docs.kepler.gl/docs/keplergl-jupyter\n"
     ]
    }
   ],
   "source": [
    "# create a basemap \n",
    "map = KeplerGl(height=600, width=800, config=config)\n",
    "# show the map\n",
    "map"
   ]
  },
  {
   "cell_type": "markdown",
   "id": "digital-aberdeen",
   "metadata": {},
   "source": [
    "After creating our base map, we will add the LULC datasets and the municipality polygon to our map."
   ]
  },
  {
   "cell_type": "code",
   "execution_count": null,
   "id": "talented-native",
   "metadata": {},
   "outputs": [],
   "source": [
    "# Add data to Kepler\n",
    "map.add_data(data=lulc_1986, name=\"Land Use/Land Cover Changes 1986\")\n",
    "map.add_data(data=lulc_1998, name=\"Land Use/Land Cover Changes 1998\")\n",
    "map.add_data(data=lulc_2003, name=\"Land Use/Land Cover Changes 2003\")\n",
    "map.add_data(data=lulc_2016, name=\"Land Use/Land Cover Changes 2016\")\n",
    "map.add_data(data=zamora_bounds, name=\"Zamora Municipality Boundaries\")"
   ]
  },
  {
   "cell_type": "markdown",
   "id": "relative-stewart",
   "metadata": {},
   "source": [
    "Finally, we will save our map as an HTML file."
   ]
  },
  {
   "cell_type": "code",
   "execution_count": null,
   "id": "conditional-waters",
   "metadata": {},
   "outputs": [],
   "source": [
    "map.save_to_html(file_name=\"lulc_keplergl_map.html\")"
   ]
  }
 ],
 "metadata": {
  "kernelspec": {
   "display_name": "Python 3",
   "language": "python",
   "name": "python3"
  },
  "language_info": {
   "codemirror_mode": {
    "name": "ipython",
    "version": 3
   },
   "file_extension": ".py",
   "mimetype": "text/x-python",
   "name": "python",
   "nbconvert_exporter": "python",
   "pygments_lexer": "ipython3",
   "version": "3.7.10"
  }
 },
 "nbformat": 4,
 "nbformat_minor": 5
}
